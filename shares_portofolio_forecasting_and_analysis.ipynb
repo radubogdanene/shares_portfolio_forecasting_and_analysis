{
  "nbformat": 4,
  "nbformat_minor": 0,
  "metadata": {
    "colab": {
      "name": "shares_portofolio_forecasting_and_analysis.ipynb",
      "provenance": [],
      "authorship_tag": "ABX9TyNaxdtZjp9S/adimfi9K1zt"
    },
    "kernelspec": {
      "name": "python3",
      "display_name": "Python 3"
    },
    "language_info": {
      "name": "python"
    }
  },
  "cells": [
    {
      "cell_type": "markdown",
      "metadata": {
        "id": "tqV9WsNvyE-A"
      },
      "source": [
        "   ***   GET  DATA   ***"
      ]
    },
    {
      "cell_type": "code",
      "metadata": {
        "id": "4fw1qS5EiTZr",
        "colab": {
          "base_uri": "https://localhost:8080/"
        },
        "outputId": "c65bec82-57d2-424b-b139-1b795541a3b5"
      },
      "source": [
        "# import all required libraries\n",
        "import pandas as pd\n",
        "!pip install quandl\n",
        "import quandl"
      ],
      "execution_count": 1,
      "outputs": [
        {
          "output_type": "stream",
          "text": [
            "Collecting quandl\n",
            "  Downloading Quandl-3.6.1-py2.py3-none-any.whl (26 kB)\n",
            "Requirement already satisfied: six in /usr/local/lib/python3.7/dist-packages (from quandl) (1.15.0)\n",
            "Requirement already satisfied: requests>=2.7.0 in /usr/local/lib/python3.7/dist-packages (from quandl) (2.23.0)\n",
            "Requirement already satisfied: more-itertools in /usr/local/lib/python3.7/dist-packages (from quandl) (8.8.0)\n",
            "Requirement already satisfied: numpy>=1.8 in /usr/local/lib/python3.7/dist-packages (from quandl) (1.19.5)\n",
            "Requirement already satisfied: pandas>=0.14 in /usr/local/lib/python3.7/dist-packages (from quandl) (1.1.5)\n",
            "Collecting inflection>=0.3.1\n",
            "  Downloading inflection-0.5.1-py2.py3-none-any.whl (9.5 kB)\n",
            "Requirement already satisfied: python-dateutil in /usr/local/lib/python3.7/dist-packages (from quandl) (2.8.2)\n",
            "Requirement already satisfied: pytz>=2017.2 in /usr/local/lib/python3.7/dist-packages (from pandas>=0.14->quandl) (2018.9)\n",
            "Requirement already satisfied: chardet<4,>=3.0.2 in /usr/local/lib/python3.7/dist-packages (from requests>=2.7.0->quandl) (3.0.4)\n",
            "Requirement already satisfied: urllib3!=1.25.0,!=1.25.1,<1.26,>=1.21.1 in /usr/local/lib/python3.7/dist-packages (from requests>=2.7.0->quandl) (1.24.3)\n",
            "Requirement already satisfied: certifi>=2017.4.17 in /usr/local/lib/python3.7/dist-packages (from requests>=2.7.0->quandl) (2021.5.30)\n",
            "Requirement already satisfied: idna<3,>=2.5 in /usr/local/lib/python3.7/dist-packages (from requests>=2.7.0->quandl) (2.10)\n",
            "Installing collected packages: inflection, quandl\n",
            "Successfully installed inflection-0.5.1 quandl-3.6.1\n"
          ],
          "name": "stdout"
        }
      ]
    },
    {
      "cell_type": "code",
      "metadata": {
        "id": "oU8MDFwmn4c1"
      },
      "source": [
        "# set time intervals\n",
        "start_train = pd.to_datetime('2012-01-01') # write in this format \n",
        "end_train = pd.to_datetime('2017-01-01')\n",
        "#start_eval = pd.to_datetime('2012-01-01') # write in this format \n",
        "start_eval = end_train\n",
        "end_eval = pd.to_datetime('2017-01-01')\n",
        "#start_predict = pd.to_datetime('2012-01-01') # write in this format \n",
        "start_predict = end_eval\n",
        "end_predict = pd.to_datetime('2017-01-01')"
      ],
      "execution_count": 2,
      "outputs": []
    },
    {
      "cell_type": "code",
      "metadata": {
        "id": "cNyE5K63pO1L"
      },
      "source": [
        "# complete list of simbols of shares\n",
        "shares_code_list = ['WIKI/AAPL.11', 'WIKI/CSCO.11', 'WIKI/IBM.11', 'WIKI/AMZN.11']"
      ],
      "execution_count": 3,
      "outputs": []
    },
    {
      "cell_type": "code",
      "metadata": {
        "id": "Gn0GqVcDo-RD"
      },
      "source": [
        "shares = []\n",
        "shares_name_list = []\n",
        "for sh_name in shares_code_list:\n",
        "    share = quandl.get(sh_name,start_date=start_train,end_date=end_eval)\n",
        "    fname = sh_name.split('/')[1]\n",
        "    fname = fname.split('.')[0]\n",
        "    shares_name_list.append(fname)\n",
        "    shares.append(share)\n",
        "    #share.to_csv(fname + '_CLOSE')"
      ],
      "execution_count": 19,
      "outputs": []
    },
    {
      "cell_type": "markdown",
      "metadata": {
        "id": "zgf-p4zPxziC"
      },
      "source": [
        "   ***  FORECASTING   ***"
      ]
    },
    {
      "cell_type": "code",
      "metadata": {
        "id": "BTRTbs0KyMUN"
      },
      "source": [
        ""
      ],
      "execution_count": null,
      "outputs": []
    },
    {
      "cell_type": "markdown",
      "metadata": {
        "id": "EdC4SLORyM7s"
      },
      "source": [
        "   ***   FINANCIAL  ANALYSIS   ***"
      ]
    },
    {
      "cell_type": "markdown",
      "metadata": {
        "id": "BeDHgxlgyjLb"
      },
      "source": [
        "Normalize prices, this is the same as cumulative daily returns"
      ]
    },
    {
      "cell_type": "code",
      "metadata": {
        "id": "BHZoGkMPypaC"
      },
      "source": [
        "for stock_df in shares:\n",
        "    stock_df['Normed Return'] = stock_df['Adj. Close']/stock_df.iloc[0]['Adj. Close']"
      ],
      "execution_count": 20,
      "outputs": []
    },
    {
      "cell_type": "markdown",
      "metadata": {
        "id": "yAkO21b40ATZ"
      },
      "source": [
        "check heads"
      ]
    },
    {
      "cell_type": "code",
      "metadata": {
        "colab": {
          "base_uri": "https://localhost:8080/"
        },
        "id": "FnPJ7Ubh0CvN",
        "outputId": "b8672e7d-c121-4a94-a0c1-f73c7a1e6634"
      },
      "source": [
        "print(len(shares[0]))\n",
        "for s in shares:\n",
        "  s.head()"
      ],
      "execution_count": 25,
      "outputs": [
        {
          "output_type": "stream",
          "text": [
            "1258\n"
          ],
          "name": "stdout"
        }
      ]
    }
  ]
}